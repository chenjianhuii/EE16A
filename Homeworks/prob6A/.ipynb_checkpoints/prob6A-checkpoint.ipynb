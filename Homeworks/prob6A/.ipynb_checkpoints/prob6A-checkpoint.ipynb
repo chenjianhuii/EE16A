{
 "cells": [
  {
   "cell_type": "markdown",
   "metadata": {},
   "source": [
    "# EECS16A Homework 6A"
   ]
  },
  {
   "cell_type": "markdown",
   "metadata": {},
   "source": [
    "## Problem 1: Mechanical Linear Correlation"
   ]
  },
  {
   "cell_type": "markdown",
   "metadata": {},
   "source": [
    "### Part (b)"
   ]
  },
  {
   "cell_type": "code",
   "execution_count": 1,
   "metadata": {},
   "outputs": [],
   "source": [
    "import numpy as np\n",
    "import matplotlib.pyplot as plt"
   ]
  },
  {
   "cell_type": "code",
   "execution_count": 3,
   "metadata": {},
   "outputs": [
    {
     "name": "stdout",
     "output_type": "stream",
     "text": [
      "Linear correlation of s1 and s2: [ 8 -2  6 -4 -4 -2 -2]\n",
      "Linear correlation of s2 and s1: [-2 -2 -4 -4  6 -2  8]\n"
     ]
    },
    {
     "data": {
      "text/plain": [
       "Text(0, 0.5, 'Correlation value')"
      ]
     },
     "execution_count": 3,
     "metadata": {},
     "output_type": "execute_result"
    },
    {
     "data": {
      "image/png": "[encoded data removed]",
      "text/plain": [
       "<Figure size 720x720 with 1 Axes>"
      ]
     },
     "metadata": {
      "needs_background": "light"
     },
     "output_type": "display_data"
    },
    {
     "data": {
      "image/png": "[encoded data removed]",
      "text/plain": [
       "<Figure size 720x720 with 1 Axes>"
      ]
     },
     "metadata": {
      "needs_background": "light"
     },
     "output_type": "display_data"
    }
   ],
   "source": [
    "s1 = [2, -2, 2, -2]\n",
    "s2 = [1, 2, 3, 4]\n",
    "\n",
    "# Use the function np.correlate with mode='full' for linear cross correlation.\n",
    "corr_s1_s2 = np.correlate(s1,s2,mode='full') \n",
    "#Since both the arrays start at 0, the last \"shift\" where the signals overlap is the length of the first array\n",
    "end_index = len(s1)\n",
    "#Similarly, the first \"shift\" where the signals overlap is the negative of the length of the second array, offset by one because of the zero index.\n",
    "st_index = -len(s2) + 1\n",
    "indices = np.arange(st_index, end_index)    \n",
    "print('Linear correlation of s1 and s2:',corr_s1_s2)\n",
    "plt.figure(figsize = (10, 10))\n",
    "plt.stem(indices, corr_s1_s2)\n",
    "plt.xlabel(\"Index of correlation\")\n",
    "plt.ylabel(\"Correlation value\")\n",
    "\n",
    "## Your code here\n",
    "corr_s2_s1 = np.correlate(s2,s1,mode='full') \n",
    "#Since both the arrays start at 0, the last \"shift\" where the signals overlap is the length of the first array\n",
    "end_index = len(s2)\n",
    "#Similarly, the first \"shift\" where the signals overlap is the negative of the length of the second array, offset by one because of the zero index.\n",
    "st_index = -len(s1) + 1\n",
    "indices = np.arange(st_index, end_index)    \n",
    "print('Linear correlation of s2 and s1:',corr_s2_s1)\n",
    "plt.figure(figsize = (10, 10))\n",
    "plt.stem(indices, corr_s2_s1)\n",
    "plt.xlabel(\"Index of correlation\")\n",
    "plt.ylabel(\"Correlation value\")"
   ]
  },
  {
   "cell_type": "markdown",
   "metadata": {},
   "source": [
    "## Problem 2: Audio File Matching"
   ]
  },
  {
   "cell_type": "markdown",
   "metadata": {},
   "source": [
    "### Part (b)"
   ]
  },
  {
   "cell_type": "code",
   "execution_count": 8,
   "metadata": {},
   "outputs": [
    {
     "data": {
      "text/plain": [
       "0"
      ]
     },
     "execution_count": 8,
     "metadata": {},
     "output_type": "execute_result"
    }
   ],
   "source": [
    "import numpy as np\n",
    "import matplotlib.pyplot as plt\n",
    "## Your code goes here\n",
    "x = [-1, 1, 1, -1, 1, 1, -1, 1]\n",
    "# y = [1, 1, -1] #shift 1\n",
    "y = [1, 1, 1] #shift 0\n",
    "np.correlate(x, y, 'full').argmax()-len(y)+1\n"
   ]
  },
  {
   "cell_type": "markdown",
   "metadata": {},
   "source": [
    "### Part (c)"
   ]
  },
  {
   "cell_type": "code",
   "execution_count": 46,
   "metadata": {
    "scrolled": true
   },
   "outputs": [
    {
     "data": {
      "text/plain": [
       "array([ 3,  9, 17, 17, 17, 20, 23, 47, 39, 23, 10])"
      ]
     },
     "execution_count": 46,
     "metadata": {},
     "output_type": "execute_result"
    }
   ],
   "source": [
    "import numpy as np\n",
    "import matplotlib.pyplot as plt\n",
    "## Your code goes here\n",
    "x = [1, 2, 3, 1, 2, 3, 3, 10]\n",
    "y = [1, 2, 3, 3]\n",
    "np.correlate(x, y, 'full')\n"
   ]
  },
  {
   "cell_type": "markdown",
   "metadata": {},
   "source": [
    "### Part (d) (Optional)"
   ]
  },
  {
   "cell_type": "code",
   "execution_count": 47,
   "metadata": {},
   "outputs": [],
   "source": [
    "def normalized_corr(a, v):\n",
    "    padded = a[:]\n",
    "    for _ in range(len(v)-1):\n",
    "        padded.insert(0, 0)\n",
    "        padded.append(0)\n",
    "    corr = []\n",
    "    norm_v = np.linalg.norm(v)\n",
    "    for i in range(len(padded)-len(v)+1):\n",
    "        corr.append(sum([padded[i+j]*v[j] for j in range(len(v))])/(np.linalg.norm(padded[i:i+len(v)])*norm_v))\n",
    "    print('The shift is', np.argmax(corr)-len(v)+1)\n",
    "    return corr"
   ]
  },
  {
   "cell_type": "code",
   "execution_count": 48,
   "metadata": {},
   "outputs": [
    {
     "name": "stdout",
     "output_type": "stream",
     "text": [
      "The shift is 3\n"
     ]
    },
    {
     "data": {
      "text/plain": [
       "[0.6255432421712244,\n",
       " 0.8392543274162825,\n",
       " 0.9473729613780999,\n",
       " 0.9152492334988814,\n",
       " 0.8355044182110839,\n",
       " 0.8695652173913044,\n",
       " 1.0000000000000002,\n",
       " 0.8872663777519663,\n",
       " 0.7486170004828492,\n",
       " 0.45935734925211186,\n",
       " 0.20851441405707477]"
      ]
     },
     "execution_count": 48,
     "metadata": {},
     "output_type": "execute_result"
    }
   ],
   "source": [
    "normalized_corr(x, y)"
   ]
  },
  {
   "cell_type": "markdown",
   "metadata": {},
   "source": [
    "### Part (e) (Optional)"
   ]
  },
  {
   "cell_type": "markdown",
   "metadata": {
    "inputHidden": false,
    "outputHidden": false
   },
   "source": [
    "We will now implement the strategy discussed in part (d) to the problem of searching for a small audio clip inside a song. Be sure to have song.wav and clip.wav in the same directory as the notebook.\n",
    "\n",
    "The song \"Mandelbrot Set\" by Jonathan Coulton is licensed under <a href=\"http://creativecommons.org/licenses/by-nc/3.0/\">CC BY-NC 3.0</a>\n",
    "\n",
    "If you have trouble playing the audio file in iPython, try opening it in a different browser. A problem was encountered with with Safari but Chrome worked."
   ]
  },
  {
   "cell_type": "code",
   "execution_count": 78,
   "metadata": {
    "inputHidden": false,
    "outputHidden": false
   },
   "outputs": [
    {
     "data": {
      "text/html": [
       "\n",
       "                <audio  controls=\"controls\" autoplay=\"autoplay\">\n",
       "                    <source src=\"temp.wav\" type=\"audio/x-wav\" />\n",
       "                    Your browser does not support the audio element.\n",
       "                </audio>\n",
       "              "
      ],
      "text/plain": [
       "<IPython.lib.display.Audio object>"
      ]
     },
     "execution_count": 78,
     "metadata": {},
     "output_type": "execute_result"
    }
   ],
   "source": [
    "import numpy as np\n",
    "import wave\n",
    "import matplotlib.pyplot as plt\n",
    "import scipy.io.wavfile\n",
    "import operator\n",
    "from IPython.display import Audio\n",
    "%matplotlib inline\n",
    "\n",
    "given_file = 'song.wav'\n",
    "target_file = 'clip.wav'\n",
    "rate_given,  given_signal  = scipy.io.wavfile.read(given_file)\n",
    "rate_target, target_signal = scipy.io.wavfile.read(target_file)\n",
    "given_signal  = given_signal[:5000].astype(float)\n",
    "# target_signal = target_signal.astype(float)\n",
    "target_signal = given_signal[2000:3000]\n",
    "def play_clip(start, end, signal=given_signal):\n",
    "    scipy.io.wavfile.write('temp.wav', rate_given, signal[start:end].astype(np.int16))\n",
    "    return Audio(url='temp.wav', autoplay=True)\n",
    "\n",
    "def run_comparison(target_signal, given_signal, idxs=None):\n",
    "    # Run everything if not called with idxs set to something\n",
    "    if idxs is None:\n",
    "        idxs = [i for i in range(len(given_signal)-len(target_signal))]\n",
    "    ret = []\n",
    "    for i in idxs:\n",
    "#         print(i)\n",
    "        ret.append(vector_compare(target_signal, given_signal[i:i+len(target_signal)]))\n",
    "    return idxs, ret\n",
    "\n",
    "play_clip(0, len(given_signal))"
   ]
  },
  {
   "cell_type": "markdown",
   "metadata": {
    "inputHidden": false,
    "outputHidden": false
   },
   "source": [
    "We will load the song into the variable `given_signal` and load the short clip into the variable `target_signal`. Your job is to finish code that will identify the short clip's location in the song. The clip we are trying to find will play after executing the following block."
   ]
  },
  {
   "cell_type": "code",
   "execution_count": 75,
   "metadata": {
    "inputHidden": false,
    "outputHidden": false,
    "scrolled": true
   },
   "outputs": [
    {
     "data": {
      "text/html": [
       "\n",
       "                <audio  controls=\"controls\" autoplay=\"autoplay\">\n",
       "                    <source src=\"clip.wav\" type=\"audio/x-wav\" />\n",
       "                    Your browser does not support the audio element.\n",
       "                </audio>\n",
       "              "
      ],
      "text/plain": [
       "<IPython.lib.display.Audio object>"
      ]
     },
     "execution_count": 75,
     "metadata": {},
     "output_type": "execute_result"
    }
   ],
   "source": [
    "Audio(url=target_file, autoplay=True)"
   ]
  },
  {
   "cell_type": "markdown",
   "metadata": {
    "inputHidden": false,
    "outputHidden": false
   },
   "source": [
    "Your task is to define the function 'vector_compare' and run the following code. Because the song has a lot of data, you should use the provided examples from the previous parts of the problem before running the later code. Do you results here make sense given your answers to previous parts of the problem?"
   ]
  },
  {
   "cell_type": "code",
   "execution_count": 52,
   "metadata": {
    "inputHidden": false,
    "outputHidden": false
   },
   "outputs": [
    {
     "name": "stdout",
     "output_type": "stream",
     "text": [
      "Vector similarity for vectors from part A:\n",
      "1.0000000000000002\n",
      "-1.0000000000000002\n",
      "Vector similarity for vectors from part C:\n",
      "1.0\n",
      "0.9925833339709303\n",
      "0.9827076298239908\n",
      "0.9746318461970762\n",
      "0.9683296637314885\n",
      "0.9633753381657649\n"
     ]
    }
   ],
   "source": [
    "def vector_compare(short_clip, segment_of_song):\n",
    "    \"\"\"This function compares two vectors, returning a number.\n",
    "    The test vector with the highest return value is regarded as being closest to the desired vector.\"\"\"\n",
    "    return sum([t * s for t, s in zip(short_clip, segment_of_song)]) / (np.linalg.norm(short_clip) * np.linalg.norm(segment_of_song))\n",
    "\n",
    "print(\"Vector similarity for vectors from part A:\")\n",
    "print(vector_compare(np.array([1,1,1]), np.array([1,1,1])))\n",
    "print(vector_compare(np.array([1,1,1]), np.array([-1,-1,-1])))\n",
    "print(\"Vector similarity for vectors from part C:\")\n",
    "print(vector_compare(np.array([1,2,3]), np.array([1,2,3])))\n",
    "print(vector_compare(np.array([1,2,3]), np.array([2,3,4])))\n",
    "print(vector_compare(np.array([1,2,3]), np.array([3,4,5])))\n",
    "print(vector_compare(np.array([1,2,3]), np.array([4,5,6])))\n",
    "print(vector_compare(np.array([1,2,3]), np.array([5,6,7])))\n",
    "print(vector_compare(np.array([1,2,3]), np.array([6,7,8])))"
   ]
  },
  {
   "cell_type": "markdown",
   "metadata": {
    "inputHidden": false,
    "outputHidden": false
   },
   "source": [
    "Run the following code that runs vector_compare on every subsequence in the song- it will probably take at least 5 minutes. How do you interpret this plot to find where the clip is in the song?"
   ]
  },
  {
   "cell_type": "code",
   "execution_count": 79,
   "metadata": {
    "inputHidden": false,
    "outputHidden": false,
    "scrolled": true
   },
   "outputs": [
    {
     "name": "stdout",
     "output_type": "stream",
     "text": [
      "That took 0.01 minutes to run\n"
     ]
    },
    {
     "data": {
      "image/png": "[encoded data removed]",
      "text/plain": [
       "<Figure size 432x288 with 1 Axes>"
      ]
     },
     "metadata": {
      "needs_background": "light"
     },
     "output_type": "display_data"
    }
   ],
   "source": [
    "import time\n",
    "\n",
    "t0 = time.time()\n",
    "idxs, song_compare = run_comparison(target_signal, given_signal)\n",
    "t1 = time.time()\n",
    "plt.plot(idxs, song_compare)\n",
    "print (\"That took %(time).2f minutes to run\" % {'time':(t1-t0)/60.0} )"
   ]
  },
  {
   "cell_type": "code",
   "execution_count": null,
   "metadata": {},
   "outputs": [],
   "source": []
  }
 ],
 "metadata": {
  "anaconda-cloud": {},
  "kernel_info": {
   "name": "python3"
  },
  "kernelspec": {
   "display_name": "Python 3 (ipykernel)",
   "language": "python",
   "name": "python3"
  },
  "language_info": {
   "codemirror_mode": {
    "name": "ipython",
    "version": 3
   },
   "file_extension": ".py",
   "mimetype": "text/x-python",
   "name": "python",
   "nbconvert_exporter": "python",
   "pygments_lexer": "ipython3",
   "version": "3.9.7"
  },
  "nteract": {
   "version": "0.12.3"
  }
 },
 "nbformat": 4,
 "nbformat_minor": 1
}
